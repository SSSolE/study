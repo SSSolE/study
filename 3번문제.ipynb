{
 "cells": [
  {
   "cell_type": "markdown",
   "id": "ec55fd53",
   "metadata": {},
   "source": [
    "3. 한화팀과 SK팀간의 2017년 연봉의 평균간에는 유의미한 차이가 존재하는지 t-test로 검정하기."
   ]
  },
  {
   "cell_type": "code",
   "execution_count": 1,
   "id": "cb0ab8ff",
   "metadata": {},
   "outputs": [],
   "source": [
    "# -*- coding: utf-8 -*-\n",
    "\n",
    "%matplotlib inline\n",
    "\n",
    "import pandas as pd\n",
    "import numpy as np\n",
    "import matplotlib.pyplot as plt\n",
    "\n",
    "import warnings\n",
    "warnings.filterwarnings(\"ignore\")"
   ]
  },
  {
   "cell_type": "markdown",
   "id": "5e29ee41",
   "metadata": {},
   "source": [
    "### [프로야구 연봉 데이터셋의 기본 정보]"
   ]
  },
  {
   "cell_type": "code",
   "execution_count": 2,
   "id": "5919638a",
   "metadata": {},
   "outputs": [],
   "source": [
    "# Data Source : http://www.statiz.co.kr/\n",
    "\n",
    "picher_file_path = '../data/picher_stats_2017.csv'\n",
    "batter_file_path = '../data/batter_stats_2017.csv'\n",
    "picher = pd.read_csv(picher_file_path)\n",
    "batter = pd.read_csv(batter_file_path)"
   ]
  },
  {
   "cell_type": "code",
   "execution_count": 3,
   "id": "bb1aa91e",
   "metadata": {},
   "outputs": [
    {
     "data": {
      "text/plain": [
       "Index(['선수명', '팀명', '승', '패', '세', '홀드', '블론', '경기', '선발', '이닝', '삼진/9',\n",
       "       '볼넷/9', '홈런/9', 'BABIP', 'LOB%', 'ERA', 'RA9-WAR', 'FIP', 'kFIP', 'WAR',\n",
       "       '연봉(2018)', '연봉(2017)'],\n",
       "      dtype='object')"
      ]
     },
     "execution_count": 3,
     "metadata": {},
     "output_type": "execute_result"
    }
   ],
   "source": [
    "picher.columns"
   ]
  },
  {
   "cell_type": "code",
   "execution_count": 4,
   "id": "7b87d338",
   "metadata": {},
   "outputs": [
    {
     "data": {
      "text/html": [
       "<div>\n",
       "<style scoped>\n",
       "    .dataframe tbody tr th:only-of-type {\n",
       "        vertical-align: middle;\n",
       "    }\n",
       "\n",
       "    .dataframe tbody tr th {\n",
       "        vertical-align: top;\n",
       "    }\n",
       "\n",
       "    .dataframe thead th {\n",
       "        text-align: right;\n",
       "    }\n",
       "</style>\n",
       "<table border=\"1\" class=\"dataframe\">\n",
       "  <thead>\n",
       "    <tr style=\"text-align: right;\">\n",
       "      <th></th>\n",
       "      <th>선수명</th>\n",
       "      <th>팀명</th>\n",
       "      <th>승</th>\n",
       "      <th>패</th>\n",
       "      <th>세</th>\n",
       "      <th>홀드</th>\n",
       "      <th>블론</th>\n",
       "      <th>경기</th>\n",
       "      <th>선발</th>\n",
       "      <th>이닝</th>\n",
       "      <th>...</th>\n",
       "      <th>홈런/9</th>\n",
       "      <th>BABIP</th>\n",
       "      <th>LOB%</th>\n",
       "      <th>ERA</th>\n",
       "      <th>RA9-WAR</th>\n",
       "      <th>FIP</th>\n",
       "      <th>kFIP</th>\n",
       "      <th>WAR</th>\n",
       "      <th>연봉(2018)</th>\n",
       "      <th>연봉(2017)</th>\n",
       "    </tr>\n",
       "  </thead>\n",
       "  <tbody>\n",
       "    <tr>\n",
       "      <th>0</th>\n",
       "      <td>켈리</td>\n",
       "      <td>SK</td>\n",
       "      <td>16</td>\n",
       "      <td>7</td>\n",
       "      <td>0</td>\n",
       "      <td>0</td>\n",
       "      <td>0</td>\n",
       "      <td>30</td>\n",
       "      <td>30</td>\n",
       "      <td>190.0</td>\n",
       "      <td>...</td>\n",
       "      <td>0.76</td>\n",
       "      <td>0.342</td>\n",
       "      <td>73.7</td>\n",
       "      <td>3.60</td>\n",
       "      <td>6.91</td>\n",
       "      <td>3.69</td>\n",
       "      <td>3.44</td>\n",
       "      <td>6.62</td>\n",
       "      <td>140000</td>\n",
       "      <td>85000</td>\n",
       "    </tr>\n",
       "    <tr>\n",
       "      <th>1</th>\n",
       "      <td>소사</td>\n",
       "      <td>LG</td>\n",
       "      <td>11</td>\n",
       "      <td>11</td>\n",
       "      <td>1</td>\n",
       "      <td>0</td>\n",
       "      <td>0</td>\n",
       "      <td>30</td>\n",
       "      <td>29</td>\n",
       "      <td>185.1</td>\n",
       "      <td>...</td>\n",
       "      <td>0.53</td>\n",
       "      <td>0.319</td>\n",
       "      <td>67.1</td>\n",
       "      <td>3.88</td>\n",
       "      <td>6.80</td>\n",
       "      <td>3.52</td>\n",
       "      <td>3.41</td>\n",
       "      <td>6.08</td>\n",
       "      <td>120000</td>\n",
       "      <td>50000</td>\n",
       "    </tr>\n",
       "    <tr>\n",
       "      <th>2</th>\n",
       "      <td>양현종</td>\n",
       "      <td>KIA</td>\n",
       "      <td>20</td>\n",
       "      <td>6</td>\n",
       "      <td>0</td>\n",
       "      <td>0</td>\n",
       "      <td>0</td>\n",
       "      <td>31</td>\n",
       "      <td>31</td>\n",
       "      <td>193.1</td>\n",
       "      <td>...</td>\n",
       "      <td>0.79</td>\n",
       "      <td>0.332</td>\n",
       "      <td>72.1</td>\n",
       "      <td>3.44</td>\n",
       "      <td>6.54</td>\n",
       "      <td>3.94</td>\n",
       "      <td>3.82</td>\n",
       "      <td>5.64</td>\n",
       "      <td>230000</td>\n",
       "      <td>150000</td>\n",
       "    </tr>\n",
       "    <tr>\n",
       "      <th>3</th>\n",
       "      <td>차우찬</td>\n",
       "      <td>LG</td>\n",
       "      <td>10</td>\n",
       "      <td>7</td>\n",
       "      <td>0</td>\n",
       "      <td>0</td>\n",
       "      <td>0</td>\n",
       "      <td>28</td>\n",
       "      <td>28</td>\n",
       "      <td>175.2</td>\n",
       "      <td>...</td>\n",
       "      <td>1.02</td>\n",
       "      <td>0.298</td>\n",
       "      <td>75.0</td>\n",
       "      <td>3.43</td>\n",
       "      <td>6.11</td>\n",
       "      <td>4.20</td>\n",
       "      <td>4.03</td>\n",
       "      <td>4.63</td>\n",
       "      <td>100000</td>\n",
       "      <td>100000</td>\n",
       "    </tr>\n",
       "    <tr>\n",
       "      <th>4</th>\n",
       "      <td>레일리</td>\n",
       "      <td>롯데</td>\n",
       "      <td>13</td>\n",
       "      <td>7</td>\n",
       "      <td>0</td>\n",
       "      <td>0</td>\n",
       "      <td>0</td>\n",
       "      <td>30</td>\n",
       "      <td>30</td>\n",
       "      <td>187.1</td>\n",
       "      <td>...</td>\n",
       "      <td>0.91</td>\n",
       "      <td>0.323</td>\n",
       "      <td>74.1</td>\n",
       "      <td>3.80</td>\n",
       "      <td>6.13</td>\n",
       "      <td>4.36</td>\n",
       "      <td>4.31</td>\n",
       "      <td>4.38</td>\n",
       "      <td>111000</td>\n",
       "      <td>85000</td>\n",
       "    </tr>\n",
       "  </tbody>\n",
       "</table>\n",
       "<p>5 rows × 22 columns</p>\n",
       "</div>"
      ],
      "text/plain": [
       "   선수명   팀명   승   패  세  홀드  블론  경기  선발     이닝  ...  홈런/9  BABIP  LOB%   ERA   \n",
       "0   켈리   SK  16   7  0   0   0  30  30  190.0  ...  0.76  0.342  73.7  3.60  \\\n",
       "1   소사   LG  11  11  1   0   0  30  29  185.1  ...  0.53  0.319  67.1  3.88   \n",
       "2  양현종  KIA  20   6  0   0   0  31  31  193.1  ...  0.79  0.332  72.1  3.44   \n",
       "3  차우찬   LG  10   7  0   0   0  28  28  175.2  ...  1.02  0.298  75.0  3.43   \n",
       "4  레일리   롯데  13   7  0   0   0  30  30  187.1  ...  0.91  0.323  74.1  3.80   \n",
       "\n",
       "   RA9-WAR   FIP  kFIP   WAR  연봉(2018)  연봉(2017)  \n",
       "0     6.91  3.69  3.44  6.62    140000     85000  \n",
       "1     6.80  3.52  3.41  6.08    120000     50000  \n",
       "2     6.54  3.94  3.82  5.64    230000    150000  \n",
       "3     6.11  4.20  4.03  4.63    100000    100000  \n",
       "4     6.13  4.36  4.31  4.38    111000     85000  \n",
       "\n",
       "[5 rows x 22 columns]"
      ]
     },
     "execution_count": 4,
     "metadata": {},
     "output_type": "execute_result"
    }
   ],
   "source": [
    "picher.head()"
   ]
  },
  {
   "cell_type": "markdown",
   "id": "19265fc5",
   "metadata": {},
   "source": [
    "###### 예측할 대상인 '연봉'에 대한 정보"
   ]
  },
  {
   "cell_type": "code",
   "execution_count": 7,
   "id": "fa0b8cd7",
   "metadata": {},
   "outputs": [
    {
     "data": {
      "text/plain": [
       "count       152.000000\n",
       "mean      16505.263158\n",
       "std       25046.478092\n",
       "min        2700.000000\n",
       "25%        3000.000000\n",
       "50%        6000.000000\n",
       "75%       15250.000000\n",
       "max      150000.000000\n",
       "Name: 연봉(2017), dtype: float64"
      ]
     },
     "execution_count": 7,
     "metadata": {},
     "output_type": "execute_result"
    }
   ],
   "source": [
    "picher['연봉(2017)'].describe() #2017년에 대한 연봉"
   ]
  },
  {
   "cell_type": "markdown",
   "id": "78ba96df",
   "metadata": {},
   "source": [
    "팀명이 SK와 한화팀에 대한 데이터만 가져오기"
   ]
  },
  {
   "cell_type": "code",
   "execution_count": 13,
   "id": "707b49c3",
   "metadata": {},
   "outputs": [
    {
     "name": "stdout",
     "output_type": "stream",
     "text": [
      "     선수명  팀명   승   패  세  홀드  블론  경기  선발     이닝  ...  홈런/9  BABIP  LOB%    ERA   \n",
      "0     켈리  SK  16   7  0   0   0  30  30  190.0  ...  0.76  0.342  73.7   3.60  \\\n",
      "21   윤희상  SK   6   7  0   0   0  23  22  120.0  ...  1.20  0.340  63.1   6.00   \n",
      "24   박종훈  SK  12   7  0   1   0  29  28  151.1  ...  0.95  0.287  75.3   4.10   \n",
      "45   문승원  SK   6  12  0   0   0  29  29  155.1  ...  1.45  0.306  70.1   5.33   \n",
      "47   서진용  SK   2   3  3   3   6  42   0   46.0  ...  0.78  0.342  74.5   3.91   \n",
      "53   문광은  SK   2   4  2   5   0  46   0   44.2  ...  1.01  0.362  57.4   7.05   \n",
      "67   채병용  SK   6   4  0   6   3  43   0   50.0  ...  1.44  0.342  58.1   6.84   \n",
      "68   신재웅  SK   0   1  2   4   2  32   0   31.0  ...  0.87  0.253  79.9   3.19   \n",
      "73   전유수  SK   0   0  0   1   0  18   0   20.2  ...  0.44  0.415  65.7   6.53   \n",
      "77   박정배  SK   5   3  7  16   4  61   0   68.0  ...  1.19  0.258  76.2   3.57   \n",
      "79   김주한  SK   6   5  5  11   5  63   3   69.2  ...  1.29  0.324  64.8   5.94   \n",
      "80   김대유  SK   0   0  0   0   0   6   0    4.2  ...  1.93  0.389  58.1   9.64   \n",
      "90   임준혁  SK   0   0  1   2   0  43   0   45.1  ...  0.79  0.325  74.0   4.57   \n",
      "101  허건엽  SK   0   0  0   0   0   8   0    8.1  ...  1.08  0.400  51.3   8.64   \n",
      "110  박희수  SK   2   6  8   9   3  48   0   38.0  ...  1.89  0.339  70.7   6.63   \n",
      "113  김태훈  SK   2   2  0   3   1  21   6   41.1  ...  1.74  0.379  68.2   6.53   \n",
      "115  정동윤  SK   0   0  0   0   0   2   0    3.0  ...  3.00  0.364  71.4   9.00   \n",
      "141  정영일  SK   0   0  0   0   0   9   0    8.0  ...  3.38  0.281  47.3  10.12   \n",
      "\n",
      "     RA9-WAR    FIP   kFIP   WAR  연봉(2018)  연봉(2017)  \n",
      "0       6.91   3.69   3.44  6.62    140000     85000  \n",
      "21      1.52   5.13   5.22  1.80     13000     15000  \n",
      "24      4.31   5.38   5.55  1.62     20000     10000  \n",
      "45      3.08   5.96   6.18  0.67      9000      4400  \n",
      "47      0.37   3.97   3.52  0.54      6000      4000  \n",
      "53      0.06   4.83   4.72  0.44      6000      4500  \n",
      "67     -0.17   5.05   4.94  0.22     30000     25000  \n",
      "68      0.87   4.57   4.39  0.21     11000     12000  \n",
      "73     -0.15   4.61   4.54  0.17      8500     11000  \n",
      "77      2.59   5.34   5.39  0.13     14000      8000  \n",
      "79      0.26   5.69   5.83  0.10      9000      5700  \n",
      "80      0.08   5.88   5.91  0.09      3000      2700  \n",
      "90      0.62   5.34   5.54  0.04      9500     10000  \n",
      "101    -0.20   5.29   5.64 -0.01      3400      3300  \n",
      "110     0.37   6.52   6.57 -0.05     18500     21000  \n",
      "113     0.07   6.13   6.09 -0.06      4000      2800  \n",
      "115    -0.03   9.40  10.05 -0.07      2700      2700  \n",
      "141    -0.61  10.73  11.37 -0.30      3000      4000  \n",
      "\n",
      "[18 rows x 22 columns]\n",
      "     선수명  팀명  승  패   세  홀드  블론  경기  선발     이닝  ...  홈런/9  BABIP  LOB%    ERA   \n",
      "20   정우람  한화  6  4  26   0   5  56   0   59.0  ...  0.76  0.304  79.4   2.75  \\\n",
      "23   배영수  한화  7  8   0   0   0  25  25  128.0  ...  1.20  0.328  66.4   5.06   \n",
      "33   윤규진  한화  8  7   0   2   0  36  18  119.0  ...  1.44  0.328  72.1   5.22   \n",
      "34   김재영  한화  5  7   0   0   1  20  15   85.1  ...  0.95  0.337  67.8   4.54   \n",
      "40   안영명  한화  1  8   0   0   1  25  16   87.2  ...  1.13  0.366  66.9   5.75   \n",
      "43   심수창  한화  3  1   2   2   2  48   0   57.0  ...  1.26  0.371  75.2   4.74   \n",
      "55   박정진  한화  3  2   1   7   0  55   0   48.0  ...  1.12  0.274  65.4   3.94   \n",
      "61   김경태  한화  1  0   0   6   0  19   0   12.2  ...  0.00  0.414  87.0   1.42   \n",
      "86   김진영  한화  0  0   0   0   0   3   0    2.2  ...  0.00  0.556  57.1  10.12   \n",
      "87   이동걸  한화  0  0   1   2   0  24   0   36.2  ...  1.23  0.279  70.3   4.17   \n",
      "100  박상원  한화  0  0   0   1   0  18   0   21.2  ...  1.25  0.254  73.4   4.15   \n",
      "108   서균  한화  0  0   0   0   0  14   0   14.1  ...  1.26  0.333  79.2   4.40   \n",
      "121  송은범  한화  0  4   1   0   1  13   6   37.1  ...  0.96  0.315  62.7   6.51   \n",
      "122  정재원  한화  0  2   0   1   1  14   0   21.0  ...  0.00  0.315  69.2   3.43   \n",
      "123  김민우  한화  0  0   0   0   0   4   2    7.1  ...  1.23  0.613  50.7  17.18   \n",
      "125   권혁  한화  1  3   0  11   1  37   0   31.1  ...  1.72  0.311  67.3   6.32   \n",
      "128  이태양  한화  3  6   0   0   0  16  12   59.0  ...  1.83  0.330  64.3   7.17   \n",
      "135  송창식  한화  5  6   0  15   6  63   0   73.1  ...  1.60  0.303  61.0   6.63   \n",
      "144  김범수  한화  0  4   0   0   0  15   5   31.0  ...  2.03  0.340  66.4   8.71   \n",
      "147  장민재  한화  2  5   0   0   2  33   5   62.2  ...  1.58  0.355  56.9   7.76   \n",
      "\n",
      "     RA9-WAR   FIP  kFIP   WAR  연봉(2018)  연봉(2017)  \n",
      "20      2.85  3.26  2.69  1.81    120000    120000  \n",
      "23      2.47  5.10  5.21  1.68     50000     55000  \n",
      "33      2.23  5.46  5.42  1.09     21000     18000  \n",
      "34      1.60  5.00  5.23  1.06      5300      3000  \n",
      "40      0.52  5.19  5.34  0.81     35000     20000  \n",
      "43      0.75  4.87  4.67  0.73     20000     25000  \n",
      "55      0.87  4.92  4.66  0.38     25000     33000  \n",
      "61      0.54  3.66  3.25  0.27      4000      3200  \n",
      "86     -0.02  2.98  2.29  0.07      3000      2700  \n",
      "87      0.69  4.96  5.11  0.06      5400      5000  \n",
      "100     0.32  5.30  5.42 -0.00      3100      2700  \n",
      "108     0.25  5.41  5.58 -0.04      3000      2700  \n",
      "121     0.10  6.33  6.79 -0.12     45000     45000  \n",
      "122     0.12  5.16  5.73 -0.12      4000      4000  \n",
      "123    -0.52  7.83  8.32 -0.12      3600      3800  \n",
      "125     0.04  6.48  6.78 -0.16     45000     45000  \n",
      "128     0.05  6.77  7.04 -0.18      7300      8300  \n",
      "135    -0.74  5.68  5.59 -0.22     24000     22000  \n",
      "144    -0.42  8.15  8.52 -0.42      3600      3300  \n",
      "147    -1.21  6.21  6.48 -0.47      7100      8100  \n",
      "\n",
      "[20 rows x 22 columns]\n"
     ]
    }
   ],
   "source": [
    "sk = picher.loc[picher['팀명']=='SK']\n",
    "hanwha = picher.loc[picher['팀명']=='한화']\n",
    "print(sk)\n",
    "print(hanwha)"
   ]
  },
  {
   "cell_type": "code",
   "execution_count": 15,
   "id": "ab870a36",
   "metadata": {},
   "outputs": [
    {
     "data": {
      "text/plain": [
       "count       18.000000\n",
       "mean     12838.888889\n",
       "std      19120.889066\n",
       "min       2700.000000\n",
       "25%       4000.000000\n",
       "50%       6850.000000\n",
       "75%      11750.000000\n",
       "max      85000.000000\n",
       "Name: 연봉(2017), dtype: float64"
      ]
     },
     "execution_count": 15,
     "metadata": {},
     "output_type": "execute_result"
    }
   ],
   "source": [
    "sk['연봉(2017)'].describe() #sk팀의 2017년에 대한 연봉"
   ]
  },
  {
   "cell_type": "code",
   "execution_count": 16,
   "id": "b3d28285",
   "metadata": {},
   "outputs": [
    {
     "data": {
      "text/plain": [
       "count        20.00000\n",
       "mean      21490.00000\n",
       "std       28472.08975\n",
       "min        2700.00000\n",
       "25%        3275.00000\n",
       "50%        8200.00000\n",
       "75%       27000.00000\n",
       "max      120000.00000\n",
       "Name: 연봉(2017), dtype: float64"
      ]
     },
     "execution_count": 16,
     "metadata": {},
     "output_type": "execute_result"
    }
   ],
   "source": [
    "hanwha['연봉(2017)'].describe() #한화팀의 2017년에 대한 연봉"
   ]
  },
  {
   "cell_type": "markdown",
   "id": "2bf81506",
   "metadata": {},
   "source": [
    "통계적 차이 검정하기(t-test)"
   ]
  },
  {
   "cell_type": "code",
   "execution_count": 14,
   "id": "b52ae2ff",
   "metadata": {},
   "outputs": [
    {
     "name": "stdout",
     "output_type": "stream",
     "text": [
      "Requirement already satisfied: scipy in c:\\users\\leeso\\anaconda3\\envs\\pybook\\lib\\site-packages (1.10.1)\n",
      "Requirement already satisfied: numpy<1.27.0,>=1.19.5 in c:\\users\\leeso\\anaconda3\\envs\\pybook\\lib\\site-packages (from scipy) (1.24.3)\n"
     ]
    }
   ],
   "source": [
    "!pip install scipy"
   ]
  },
  {
   "cell_type": "code",
   "execution_count": 23,
   "id": "a6e386ee",
   "metadata": {},
   "outputs": [
    {
     "name": "stdout",
     "output_type": "stream",
     "text": [
      "The t-statistic and p-value assuming equal variances is -1.087 and 0.284.\n",
      "The t-statistic and p-value not assuming equal variances is -1.109 and 0.275\n"
     ]
    }
   ],
   "source": [
    "from scipy import stats\n",
    "tTestResult = stats.ttest_ind(sk['연봉(2017)'], hanwha['연봉(2017)'])\n",
    "tTestResultDiffVar = stats.ttest_ind(sk['연봉(2017)'], hanwha['연봉(2017)'], equal_var=False)\n",
    "\n",
    "print(\"The t-statistic and p-value assuming equal variances is %.3f and %.3f.\" % tTestResult)\n",
    "print(\"The t-statistic and p-value not assuming equal variances is %.3f and %.3f\" % tTestResultDiffVar)"
   ]
  },
  {
   "cell_type": "code",
   "execution_count": null,
   "id": "bb3584ae",
   "metadata": {},
   "outputs": [],
   "source": []
  }
 ],
 "metadata": {
  "kernelspec": {
   "display_name": "Python 3 (ipykernel)",
   "language": "python",
   "name": "python3"
  },
  "language_info": {
   "codemirror_mode": {
    "name": "ipython",
    "version": 3
   },
   "file_extension": ".py",
   "mimetype": "text/x-python",
   "name": "python",
   "nbconvert_exporter": "python",
   "pygments_lexer": "ipython3",
   "version": "3.8.16"
  }
 },
 "nbformat": 4,
 "nbformat_minor": 5
}
